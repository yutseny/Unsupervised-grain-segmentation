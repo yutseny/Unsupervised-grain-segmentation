{
 "cells": [
  {
   "cell_type": "code",
   "execution_count": null,
   "metadata": {},
   "outputs": [],
   "source": [
    "import pandas as pd\n",
    "import matplotlib.pyplot as plt\n",
    "import numpy as np\n",
    "import cv2\n",
    "from skimage.data import astronaut\n",
    "from skimage.color import label2rgb, rgb2gray\n",
    "from skimage.filters import sobel\n",
    "from skimage.segmentation import felzenszwalb, slic, quickshift, watershed\n",
    "from skimage.segmentation import mark_boundaries\n",
    "from skimage.util import img_as_float\n",
    "from skimage import measure, data, io, segmentation, color, img_as_ubyte\n",
    "from skimage.future import graph\n",
    "#from google.colab import drive"
   ]
  },
  {
   "cell_type": "code",
   "execution_count": null,
   "metadata": {},
   "outputs": [],
   "source": [
    "H = cv2.imread('/content/drive/MyDrive/image segmentation/-x.png')\n",
    "print(H.shape)\n",
    "plt.imshow(H)\n",
    "plt.axis('off')\n",
    "plt.show()"
   ]
  },
  {
   "cell_type": "code",
   "execution_count": null,
   "metadata": {},
   "outputs": [],
   "source": [
    "# convert image to grayscale\n",
    "gray_H = cv2.cvtColor(H, cv2.COLOR_BGR2GRAY)\n",
    "\n",
    "# Histogram equalization\n",
    "clahe = cv2.createCLAHE(clipLimit=2.0, tileGridSize=(8,8))\n",
    "gray_cl1 = clahe.apply(gray_H)\n",
    "\n",
    "plt.imshow(gray_cl1)\n",
    "plt.show()\n",
    "\n",
    "# create RGB image with grayscale intensity values\n",
    "rgb_img_0 = np.zeros((gray_cl1.shape[0], gray_cl1.shape[1], 3), dtype=np.uint8)\n",
    "rgb_img_0[:, :, 0] = gray_cl1\n",
    "rgb_img_0[:, :, 1] = gray_cl1\n",
    "rgb_img_0[:, :, 2] = gray_cl1\n",
    "\n",
    "# Blur image\n",
    "#median_H = cv2.medianBlur(rgb_img_0, 1)\n",
    "# micron pin = 3, Nick = 5\n",
    "\n",
    "# Display the grayscale image\n",
    "plt.imshow(median_H)\n",
    "plt.show()"
   ]
  },
  {
   "cell_type": "code",
   "execution_count": null,
   "metadata": {},
   "outputs": [],
   "source": [
    "# Quickshift superpixel segmentation (over-segmented)\n",
    "labels = quickshift(median_H, kernel_size=3, max_dist=200, ratio=0.9)\n",
    "\n",
    "out1 = color.label2rgb(labels, median_H, kind='avg', bg_label=0)\n",
    "out1 = segmentation.mark_boundaries(out1, labels, (255, 255, 0))\n",
    "plt.axis('off')\n",
    "plt.imshow(out1)\n",
    "plt.show()"
   ]
  },
  {
   "cell_type": "code",
   "execution_count": null,
   "metadata": {},
   "outputs": [],
   "source": [
    "## RAG Merging to merge over-segmented image\n",
    "def _weight_mean_color(graph, src, dst, n):\n",
    "    diff = graph.nodes[dst]['mean color'] - graph.nodes[n]['mean color']\n",
    "    diff = np.linalg.norm(diff)\n",
    "    return {'weight': diff}\n",
    "\n",
    "def merge_mean_color(graph, src, dst):\n",
    "    graph.nodes[dst]['total color'] += graph.nodes[src]['total color']\n",
    "    graph.nodes[dst]['pixel count'] += graph.nodes[src]['pixel count']\n",
    "    graph.nodes[dst]['mean color'] = (graph.nodes[dst]['total color'] /\n",
    "                                      graph.nodes[dst]['pixel count'])\n",
    "\n",
    "g = graph.rag_mean_color(median_H, labels)\n",
    "\n",
    "labels2 = graph.merge_hierarchical(labels, g, thresh=9, rag_copy=False,\n",
    "                                   in_place_merge=True,\n",
    "                                   merge_func=merge_mean_color,\n",
    "                                   weight_func=_weight_mean_color)\n",
    "# Variable adjustment needed: bigger thresh for larger grain\n",
    "# opensource =11\n",
    "\n",
    "# output the label mask\n",
    "plt.imshow(labels2)\n",
    "out2 = color.label2rgb(labels2, median_H, kind='avg', bg_label=0)\n",
    "col = color.label2rgb(labels2, bg_label=0)\n",
    "plt.axis('off')\n",
    "plt.imshow(col)\n",
    "plt.show()\n",
    "# mark the boundary of the mask\n",
    "out_b = segmentation.mark_boundaries(out2, labels2, (255, 255, 0))\n",
    "#out2 = segmentation.find_boundaries(out2)\n",
    "plt.axis('off')\n",
    "plt.imshow(out_b)\n",
    "plt.show()\n",
    "plt.axis('off')\n",
    "plt.imshow(out2)\n",
    "plt.show()"
   ]
  },
  {
   "cell_type": "code",
   "execution_count": null,
   "metadata": {},
   "outputs": [],
   "source": [
    "from skimage import measure, io, img_as_ubyte\n",
    "import matplotlib.pyplot as plt\n",
    "from skimage.color import label2rgb, rgb2gray\n",
    "import numpy as np\n",
    "\n",
    "props_H = measure.regionprops_table(labels2, H,\n",
    "                          properties=['label',\n",
    "                                      'area', 'equivalent_diameter',\n",
    "                                      'mean_intensity', 'solidity',\n",
    "                                      'MajorAxisLength','MinorAxisLength',\n",
    "                                      'centroid', 'orientation',\n",
    "                                      'feret_diameter_max', 'perimeter',\n",
    "                                      'perimeter_crofton', 'intensity_max',\n",
    "                                      'intensity_mean', 'intensity_min'])\n",
    "\n",
    "import pandas as pd\n",
    "df_H = pd.DataFrame(props_H)\n",
    "print(df_H)"
   ]
  }
 ],
 "metadata": {
  "language_info": {
   "name": "python"
  }
 },
 "nbformat": 4,
 "nbformat_minor": 2
}
